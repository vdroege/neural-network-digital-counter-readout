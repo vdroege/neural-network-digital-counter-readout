{
 "cells": [
  {
   "cell_type": "markdown",
   "metadata": {},
   "source": [
    "# CNN Training\n",
    "\n",
    "Target of this code is to train a CNN network to classify images of a digital readout to the digits 0 to 9. Additionally a category \"NaN\" is introduced, to mark images that are not amibiguous.\n",
    "\n",
    "### Preparing the training\n",
    "* First all libraries are loaded\n",
    "    * It is assumed, that they are installed during the Python setup\n",
    "* matplotlib is set to print the output inline in the jupyter notebook"
   ]
  },
  {
   "cell_type": "code",
   "execution_count": 1,
   "metadata": {
    "scrolled": true
   },
   "outputs": [
    {
     "name": "stderr",
     "output_type": "stream",
     "text": [
      "2021-12-12 12:11:00.199432: W tensorflow/stream_executor/platform/default/dso_loader.cc:64] Could not load dynamic library 'libcudart.so.11.0'; dlerror: libcudart.so.11.0: cannot open shared object file: No such file or directory\n",
      "2021-12-12 12:11:00.199505: I tensorflow/stream_executor/cuda/cudart_stub.cc:29] Ignore above cudart dlerror if you do not have a GPU set up on your machine.\n"
     ]
    }
   ],
   "source": [
    "########### Basic Parameters for Running: ################################\n",
    "    \n",
    "TFliteNamingAndVersion = \"dig1320s3vd7\"   # Used for tflite Filename\n",
    "Training_Percentage = 0.0              # 0.0 = Use all Images for Training\n",
    "Epoch_Anz = 100\n",
    "\n",
    "##########################################################################\n",
    "\n",
    "\n",
    "import tensorflow as tf\n",
    "import matplotlib.pyplot as plt\n",
    "import glob\n",
    "import os\n",
    "import numpy as np\n",
    "from sklearn.utils import shuffle\n",
    "from tensorflow.python import keras\n",
    "from tensorflow.python.keras import Sequential\n",
    "from tensorflow.python.keras.layers import Dense, InputLayer, Conv2D, MaxPool2D, Flatten, BatchNormalization\n",
    "from tensorflow.keras.preprocessing.image import ImageDataGenerator\n",
    "from sklearn.model_selection import train_test_split\n",
    "from tensorflow.keras.callbacks import History \n",
    "from tensorflow.keras.utils import to_categorical\n",
    "from tensorflow.python.keras.optimizer_v2 import adadelta as adadelta_v2\n",
    "from PIL import Image \n",
    "from pathlib import Path\n",
    "\n",
    "loss_ges = np.array([])\n",
    "val_loss_ges = np.array([])\n",
    "\n",
    "%matplotlib inline\n",
    "np.set_printoptions(precision=4)\n",
    "np.set_printoptions(suppress=True)"
   ]
  },
  {
   "cell_type": "markdown",
   "metadata": {},
   "source": [
    "### Load training data\n",
    "* The data is expected in the \"Input_dir\"\n",
    "* Inside subdirectories are expected from -1, 0, 1, ... 9 in which the pictures are sorted according to their values (=category)\n",
    "* Picture size must be 20x32 with 3 color channels (RGB)\n",
    "* The filename can be arbitrary\n",
    "\n",
    "* The images are stored in the x_data[]\n",
    "* The expected category for each image in the corresponding y_data[]\n",
    "\n",
    "* The last step is a shuffle (from sklearn.utils) and split the data into training and validation data"
   ]
  },
  {
   "cell_type": "code",
   "execution_count": 2,
   "metadata": {},
   "outputs": [
    {
     "name": "stdout",
     "output_type": "stream",
     "text": [
      "(692, 32, 20, 3)\n",
      "(692, 11)\n"
     ]
    }
   ],
   "source": [
    "Input_dir='ziffer_sortiert_vd_resize'\n",
    "\n",
    "files = glob.glob(Input_dir + '/*.jpg')\n",
    "x_data = []\n",
    "y_data = []\n",
    "\n",
    "for aktfile in files:\n",
    "    base = os.path.basename(aktfile)\n",
    "    target = base[0:1]\n",
    "    if target == \"N\":\n",
    "        category = 10                # NaN does not work --> convert to 10\n",
    "    else:\n",
    "        category = int(target)\n",
    "    test_image = Image.open(aktfile)\n",
    "    test_image = np.array(test_image, dtype=\"float32\")\n",
    "    x_data.append(test_image)\n",
    "    y_data.append(np.array([category]))\n",
    "\n",
    "x_data = np.array(x_data)\n",
    "y_data = np.array(y_data)\n",
    "y_data = to_categorical(y_data, 11)\n",
    "print(x_data.shape)\n",
    "print(y_data.shape)\n",
    "\n",
    "x_data, y_data = shuffle(x_data, y_data)\n",
    "\n",
    "if (Training_Percentage > 0):\n",
    "    X_train, X_test, y_train, y_test = train_test_split(x_data, y_data, test_size=Training_Percentage)\n",
    "else:\n",
    "    X_train = x_data\n",
    "    y_train = y_data"
   ]
  },
  {
   "cell_type": "markdown",
   "metadata": {},
   "source": [
    "### Define the model\n",
    "\n",
    "The layout of the network ist a typcial CNN network with alternating **Conv2D** and **MaxPool2D** layers. Finished after **flattening** with additional **Dense** layer.\n",
    "\n",
    "#### Important\n",
    "* Shape of the input layer: (32, 20, 3)\n",
    "* Number of output layers: 11\n",
    "* As loss function \"categorical_crossentropy\" is choosen, as it is a categories task"
   ]
  },
  {
   "cell_type": "code",
   "execution_count": 3,
   "metadata": {},
   "outputs": [
    {
     "name": "stdout",
     "output_type": "stream",
     "text": [
      "Model: \"sequential\"\n",
      "_________________________________________________________________\n",
      "Layer (type)                 Output Shape              Param #   \n",
      "=================================================================\n",
      "batch_normalization (BatchNo (None, 32, 20, 3)         12        \n",
      "_________________________________________________________________\n",
      "conv2d (Conv2D)              (None, 32, 20, 32)        896       \n",
      "_________________________________________________________________\n",
      "max_pooling2d (MaxPooling2D) (None, 16, 10, 32)        0         \n",
      "_________________________________________________________________\n",
      "conv2d_1 (Conv2D)            (None, 16, 10, 32)        9248      \n",
      "_________________________________________________________________\n",
      "max_pooling2d_1 (MaxPooling2 (None, 8, 5, 32)          0         \n",
      "_________________________________________________________________\n",
      "conv2d_2 (Conv2D)            (None, 8, 5, 32)          9248      \n",
      "_________________________________________________________________\n",
      "max_pooling2d_2 (MaxPooling2 (None, 4, 2, 32)          0         \n",
      "_________________________________________________________________\n",
      "flatten (Flatten)            (None, 256)               0         \n",
      "_________________________________________________________________\n",
      "dense (Dense)                (None, 128)               32896     \n",
      "_________________________________________________________________\n",
      "dense_1 (Dense)              (None, 11)                1419      \n",
      "=================================================================\n",
      "Total params: 53,719\n",
      "Trainable params: 53,713\n",
      "Non-trainable params: 6\n",
      "_________________________________________________________________\n"
     ]
    },
    {
     "name": "stderr",
     "output_type": "stream",
     "text": [
      "2021-12-12 12:11:05.563017: W tensorflow/stream_executor/platform/default/dso_loader.cc:64] Could not load dynamic library 'libcuda.so.1'; dlerror: libcuda.so.1: cannot open shared object file: No such file or directory\n",
      "2021-12-12 12:11:05.563096: W tensorflow/stream_executor/cuda/cuda_driver.cc:269] failed call to cuInit: UNKNOWN ERROR (303)\n",
      "2021-12-12 12:11:05.563135: I tensorflow/stream_executor/cuda/cuda_diagnostics.cc:156] kernel driver does not appear to be running on this host (7b68acc9717f): /proc/driver/nvidia/version does not exist\n",
      "2021-12-12 12:11:05.563367: I tensorflow/core/platform/cpu_feature_guard.cc:151] This TensorFlow binary is optimized with oneAPI Deep Neural Network Library (oneDNN) to use the following CPU instructions in performance-critical operations:  AVX2 FMA\n",
      "To enable them in other operations, rebuild TensorFlow with the appropriate compiler flags.\n"
     ]
    }
   ],
   "source": [
    "model = Sequential()\n",
    "model.add(BatchNormalization(input_shape=(32,20,3)))\n",
    "model.add(Conv2D(32, (3, 3), padding='same', activation=\"relu\"))\n",
    "model.add(MaxPool2D(pool_size=(2,2)))\n",
    "model.add(Conv2D(32, (3, 3), padding='same', activation=\"relu\"))\n",
    "model.add(MaxPool2D(pool_size=(2,2)))\n",
    "model.add(Conv2D(32, (3, 3), padding='same', activation=\"relu\"))\n",
    "model.add(MaxPool2D(pool_size=(2,2)))\n",
    "model.add(Flatten())\n",
    "model.add(Dense(128,activation=\"relu\"))\n",
    "model.add(Dense(11, activation = \"softmax\"))\n",
    "model.summary()\n",
    "\n",
    "model.compile(loss=tf.keras.losses.categorical_crossentropy, optimizer=tf.keras.optimizers.Adadelta(learning_rate=1.0, rho=0.95), metrics = [\"accuracy\"])"
   ]
  },
  {
   "cell_type": "markdown",
   "metadata": {},
   "source": [
    "# Training\n",
    "The input pictures are randomly scattered for brightness, pixel shift variations and rotation angle. This is implemented with a ImageDataGenerator.\n"
   ]
  },
  {
   "cell_type": "code",
   "execution_count": 4,
   "metadata": {
    "scrolled": true
   },
   "outputs": [
    {
     "name": "stdout",
     "output_type": "stream",
     "text": [
      "Epoch 1/100\n",
      "173/173 [==============================] - 2s 7ms/step - loss: 2.1728 - accuracy: 0.2399\n",
      "Epoch 2/100\n",
      "173/173 [==============================] - 1s 7ms/step - loss: 1.2499 - accuracy: 0.5853\n",
      "Epoch 3/100\n",
      "173/173 [==============================] - 1s 6ms/step - loss: 0.7588 - accuracy: 0.7601\n",
      "Epoch 4/100\n",
      "173/173 [==============================] - 1s 6ms/step - loss: 0.5309 - accuracy: 0.8396\n",
      "Epoch 5/100\n",
      "173/173 [==============================] - 1s 7ms/step - loss: 0.3871 - accuracy: 0.8873\n",
      "Epoch 6/100\n",
      "173/173 [==============================] - 1s 6ms/step - loss: 0.3223 - accuracy: 0.8902\n",
      "Epoch 7/100\n",
      "173/173 [==============================] - 1s 6ms/step - loss: 0.2671 - accuracy: 0.9133\n",
      "Epoch 8/100\n",
      "173/173 [==============================] - 1s 6ms/step - loss: 0.2204 - accuracy: 0.9408\n",
      "Epoch 9/100\n",
      "173/173 [==============================] - 1s 6ms/step - loss: 0.1889 - accuracy: 0.9408\n",
      "Epoch 10/100\n",
      "173/173 [==============================] - 1s 6ms/step - loss: 0.1896 - accuracy: 0.9451\n",
      "Epoch 11/100\n",
      "173/173 [==============================] - 1s 6ms/step - loss: 0.1711 - accuracy: 0.9436\n",
      "Epoch 12/100\n",
      "173/173 [==============================] - 1s 6ms/step - loss: 0.1603 - accuracy: 0.9408\n",
      "Epoch 13/100\n",
      "173/173 [==============================] - 1s 6ms/step - loss: 0.1671 - accuracy: 0.9436\n",
      "Epoch 14/100\n",
      "173/173 [==============================] - 1s 6ms/step - loss: 0.1361 - accuracy: 0.9595\n",
      "Epoch 15/100\n",
      "173/173 [==============================] - 1s 6ms/step - loss: 0.1452 - accuracy: 0.9566\n",
      "Epoch 16/100\n",
      "173/173 [==============================] - 1s 6ms/step - loss: 0.1316 - accuracy: 0.9566\n",
      "Epoch 17/100\n",
      "173/173 [==============================] - 1s 6ms/step - loss: 0.1334 - accuracy: 0.9552\n",
      "Epoch 18/100\n",
      "173/173 [==============================] - 1s 6ms/step - loss: 0.1016 - accuracy: 0.9711\n",
      "Epoch 19/100\n",
      "173/173 [==============================] - 1s 6ms/step - loss: 0.1170 - accuracy: 0.9653\n",
      "Epoch 20/100\n",
      "173/173 [==============================] - 1s 6ms/step - loss: 0.1345 - accuracy: 0.9624\n",
      "Epoch 21/100\n",
      "173/173 [==============================] - 1s 6ms/step - loss: 0.1101 - accuracy: 0.9697\n",
      "Epoch 22/100\n",
      "173/173 [==============================] - 1s 6ms/step - loss: 0.1072 - accuracy: 0.9639\n",
      "Epoch 23/100\n",
      "173/173 [==============================] - 1s 6ms/step - loss: 0.1062 - accuracy: 0.9668\n",
      "Epoch 24/100\n",
      "173/173 [==============================] - 1s 6ms/step - loss: 0.0973 - accuracy: 0.9697\n",
      "Epoch 25/100\n",
      "173/173 [==============================] - 1s 6ms/step - loss: 0.0786 - accuracy: 0.9798\n",
      "Epoch 26/100\n",
      "173/173 [==============================] - 1s 6ms/step - loss: 0.0898 - accuracy: 0.9711\n",
      "Epoch 27/100\n",
      "173/173 [==============================] - 1s 6ms/step - loss: 0.0902 - accuracy: 0.9725\n",
      "Epoch 28/100\n",
      "173/173 [==============================] - 1s 6ms/step - loss: 0.0796 - accuracy: 0.9769\n",
      "Epoch 29/100\n",
      "173/173 [==============================] - 1s 6ms/step - loss: 0.0879 - accuracy: 0.9653\n",
      "Epoch 30/100\n",
      "173/173 [==============================] - 1s 6ms/step - loss: 0.1019 - accuracy: 0.9725\n",
      "Epoch 31/100\n",
      "173/173 [==============================] - 1s 6ms/step - loss: 0.0940 - accuracy: 0.9682\n",
      "Epoch 32/100\n",
      "173/173 [==============================] - 1s 6ms/step - loss: 0.0578 - accuracy: 0.9783\n",
      "Epoch 33/100\n",
      "173/173 [==============================] - 1s 6ms/step - loss: 0.0877 - accuracy: 0.9769\n",
      "Epoch 34/100\n",
      "173/173 [==============================] - 1s 6ms/step - loss: 0.0822 - accuracy: 0.9740\n",
      "Epoch 35/100\n",
      "173/173 [==============================] - 1s 6ms/step - loss: 0.0745 - accuracy: 0.9668\n",
      "Epoch 36/100\n",
      "173/173 [==============================] - 1s 6ms/step - loss: 0.0684 - accuracy: 0.9769\n",
      "Epoch 37/100\n",
      "173/173 [==============================] - 1s 6ms/step - loss: 0.0719 - accuracy: 0.9783\n",
      "Epoch 38/100\n",
      "173/173 [==============================] - 1s 6ms/step - loss: 0.0812 - accuracy: 0.9725\n",
      "Epoch 39/100\n",
      "173/173 [==============================] - 1s 6ms/step - loss: 0.0436 - accuracy: 0.9855\n",
      "Epoch 40/100\n",
      "173/173 [==============================] - 1s 6ms/step - loss: 0.0640 - accuracy: 0.9812\n",
      "Epoch 41/100\n",
      "173/173 [==============================] - 1s 6ms/step - loss: 0.0578 - accuracy: 0.9783\n",
      "Epoch 42/100\n",
      "173/173 [==============================] - 1s 6ms/step - loss: 0.0906 - accuracy: 0.9725\n",
      "Epoch 43/100\n",
      "173/173 [==============================] - 1s 6ms/step - loss: 0.0697 - accuracy: 0.9798\n",
      "Epoch 44/100\n",
      "173/173 [==============================] - 1s 7ms/step - loss: 0.0549 - accuracy: 0.9812\n",
      "Epoch 45/100\n",
      "173/173 [==============================] - 1s 6ms/step - loss: 0.0483 - accuracy: 0.9827\n",
      "Epoch 46/100\n",
      "173/173 [==============================] - 1s 6ms/step - loss: 0.0364 - accuracy: 0.9870\n",
      "Epoch 47/100\n",
      "173/173 [==============================] - 1s 6ms/step - loss: 0.0684 - accuracy: 0.9841\n",
      "Epoch 48/100\n",
      "173/173 [==============================] - 1s 6ms/step - loss: 0.0776 - accuracy: 0.9740\n",
      "Epoch 49/100\n",
      "173/173 [==============================] - 1s 6ms/step - loss: 0.0501 - accuracy: 0.9870\n",
      "Epoch 50/100\n",
      "173/173 [==============================] - 1s 6ms/step - loss: 0.0526 - accuracy: 0.9841\n",
      "Epoch 51/100\n",
      "173/173 [==============================] - 1s 6ms/step - loss: 0.0575 - accuracy: 0.9827\n",
      "Epoch 52/100\n",
      "173/173 [==============================] - 1s 6ms/step - loss: 0.0571 - accuracy: 0.9798\n",
      "Epoch 53/100\n",
      "173/173 [==============================] - 1s 6ms/step - loss: 0.0658 - accuracy: 0.9827\n",
      "Epoch 54/100\n",
      "173/173 [==============================] - 1s 6ms/step - loss: 0.0462 - accuracy: 0.9841\n",
      "Epoch 55/100\n",
      "173/173 [==============================] - 1s 6ms/step - loss: 0.0465 - accuracy: 0.9899\n",
      "Epoch 56/100\n",
      "173/173 [==============================] - 1s 6ms/step - loss: 0.0474 - accuracy: 0.9812\n",
      "Epoch 57/100\n",
      "173/173 [==============================] - 1s 6ms/step - loss: 0.0560 - accuracy: 0.9870\n",
      "Epoch 58/100\n",
      "173/173 [==============================] - 1s 6ms/step - loss: 0.0475 - accuracy: 0.9884\n",
      "Epoch 59/100\n",
      "173/173 [==============================] - 1s 7ms/step - loss: 0.0336 - accuracy: 0.9855\n",
      "Epoch 60/100\n",
      "173/173 [==============================] - 1s 7ms/step - loss: 0.0320 - accuracy: 0.9899\n",
      "Epoch 61/100\n",
      "173/173 [==============================] - 1s 7ms/step - loss: 0.0428 - accuracy: 0.9855\n",
      "Epoch 62/100\n",
      "173/173 [==============================] - 1s 6ms/step - loss: 0.0292 - accuracy: 0.9899\n",
      "Epoch 63/100\n",
      "173/173 [==============================] - 1s 6ms/step - loss: 0.0661 - accuracy: 0.9812\n",
      "Epoch 64/100\n",
      "173/173 [==============================] - 1s 6ms/step - loss: 0.0472 - accuracy: 0.9827\n",
      "Epoch 65/100\n",
      "173/173 [==============================] - 1s 6ms/step - loss: 0.0579 - accuracy: 0.9740\n",
      "Epoch 66/100\n",
      "173/173 [==============================] - 1s 6ms/step - loss: 0.0338 - accuracy: 0.9884\n",
      "Epoch 67/100\n",
      "173/173 [==============================] - 1s 6ms/step - loss: 0.0343 - accuracy: 0.9899\n",
      "Epoch 68/100\n",
      "173/173 [==============================] - 1s 6ms/step - loss: 0.0277 - accuracy: 0.9899\n",
      "Epoch 69/100\n",
      "173/173 [==============================] - 1s 7ms/step - loss: 0.0322 - accuracy: 0.9870\n",
      "Epoch 70/100\n",
      "173/173 [==============================] - 1s 7ms/step - loss: 0.0334 - accuracy: 0.9884\n",
      "Epoch 71/100\n",
      "173/173 [==============================] - 1s 6ms/step - loss: 0.0381 - accuracy: 0.9913\n",
      "Epoch 72/100\n",
      "173/173 [==============================] - 1s 6ms/step - loss: 0.0361 - accuracy: 0.9884\n",
      "Epoch 73/100\n",
      "173/173 [==============================] - 1s 6ms/step - loss: 0.0442 - accuracy: 0.9884\n",
      "Epoch 74/100\n",
      "173/173 [==============================] - 1s 6ms/step - loss: 0.0339 - accuracy: 0.9870\n",
      "Epoch 75/100\n",
      "173/173 [==============================] - 1s 6ms/step - loss: 0.0553 - accuracy: 0.9870\n",
      "Epoch 76/100\n",
      "173/173 [==============================] - 1s 6ms/step - loss: 0.0182 - accuracy: 0.9899\n",
      "Epoch 77/100\n",
      "173/173 [==============================] - 1s 7ms/step - loss: 0.0355 - accuracy: 0.9855\n",
      "Epoch 78/100\n",
      "173/173 [==============================] - 1s 6ms/step - loss: 0.0309 - accuracy: 0.9870\n",
      "Epoch 79/100\n",
      "173/173 [==============================] - 1s 6ms/step - loss: 0.0665 - accuracy: 0.9884\n",
      "Epoch 80/100\n",
      "173/173 [==============================] - 1s 6ms/step - loss: 0.0490 - accuracy: 0.9812\n",
      "Epoch 81/100\n",
      "173/173 [==============================] - 1s 6ms/step - loss: 0.0386 - accuracy: 0.9884\n",
      "Epoch 82/100\n",
      "173/173 [==============================] - 1s 6ms/step - loss: 0.0486 - accuracy: 0.9841\n",
      "Epoch 83/100\n",
      "173/173 [==============================] - 1s 6ms/step - loss: 0.0208 - accuracy: 0.9913\n",
      "Epoch 84/100\n",
      "173/173 [==============================] - 1s 6ms/step - loss: 0.0537 - accuracy: 0.9841\n",
      "Epoch 85/100\n",
      "173/173 [==============================] - 1s 6ms/step - loss: 0.0300 - accuracy: 0.9913\n",
      "Epoch 86/100\n",
      "173/173 [==============================] - 1s 6ms/step - loss: 0.0249 - accuracy: 0.9942\n",
      "Epoch 87/100\n",
      "173/173 [==============================] - 1s 6ms/step - loss: 0.0303 - accuracy: 0.9942\n",
      "Epoch 88/100\n",
      "173/173 [==============================] - 1s 6ms/step - loss: 0.0247 - accuracy: 0.9913\n",
      "Epoch 89/100\n",
      "173/173 [==============================] - 1s 6ms/step - loss: 0.0349 - accuracy: 0.9884\n",
      "Epoch 90/100\n",
      "173/173 [==============================] - 1s 6ms/step - loss: 0.0234 - accuracy: 0.9942\n",
      "Epoch 91/100\n",
      "173/173 [==============================] - 1s 6ms/step - loss: 0.0346 - accuracy: 0.9827\n",
      "Epoch 92/100\n",
      "173/173 [==============================] - 1s 6ms/step - loss: 0.0372 - accuracy: 0.9870\n",
      "Epoch 93/100\n",
      "173/173 [==============================] - 1s 6ms/step - loss: 0.0326 - accuracy: 0.9899\n",
      "Epoch 94/100\n",
      "173/173 [==============================] - 1s 6ms/step - loss: 0.0328 - accuracy: 0.9913\n",
      "Epoch 95/100\n",
      "173/173 [==============================] - 1s 6ms/step - loss: 0.0399 - accuracy: 0.9884\n",
      "Epoch 96/100\n",
      "173/173 [==============================] - 1s 6ms/step - loss: 0.0331 - accuracy: 0.9884\n",
      "Epoch 97/100\n",
      "173/173 [==============================] - 1s 6ms/step - loss: 0.0563 - accuracy: 0.9855\n",
      "Epoch 98/100\n",
      "173/173 [==============================] - 1s 6ms/step - loss: 0.0375 - accuracy: 0.9899\n",
      "Epoch 99/100\n",
      "173/173 [==============================] - 1s 6ms/step - loss: 0.0439 - accuracy: 0.9899\n",
      "Epoch 100/100\n",
      "173/173 [==============================] - 1s 6ms/step - loss: 0.0124 - accuracy: 0.9942\n"
     ]
    }
   ],
   "source": [
    "Batch_Size = 4\n",
    "Shift_Range = 1\n",
    "Brightness_Range = 0.3\n",
    "Rotation_Angle = 5\n",
    "ZoomRange = 0.2\n",
    "\n",
    "datagen = ImageDataGenerator(width_shift_range=[-Shift_Range,Shift_Range], \n",
    "                             height_shift_range=[-Shift_Range,Shift_Range],\n",
    "                             brightness_range=[1-Brightness_Range,1+Brightness_Range],\n",
    "                             zoom_range=[1-ZoomRange, 1+ZoomRange],\n",
    "                             rotation_range=Rotation_Angle)\n",
    "\n",
    "if (Training_Percentage > 0):\n",
    "    train_iterator = datagen.flow(x_data, y_data, batch_size=Batch_Size)\n",
    "    validation_iterator = datagen.flow(X_test, y_test, batch_size=Batch_Size)\n",
    "    history = model.fit(train_iterator, validation_data = validation_iterator, epochs = Epoch_Anz)\n",
    "else:\n",
    "    train_iterator = datagen.flow(x_data, y_data, batch_size=Batch_Size)\n",
    "    history = model.fit(train_iterator, epochs = Epoch_Anz)\n",
    "\n"
   ]
  },
  {
   "cell_type": "markdown",
   "metadata": {},
   "source": [
    "### Learing result\n",
    " \n",
    "* Visualization of the training and validation results"
   ]
  },
  {
   "cell_type": "code",
   "execution_count": 5,
   "metadata": {},
   "outputs": [
    {
     "data": {
      "image/png": "[encoded data removed]",
      "text/plain": [
       "<Figure size 432x288 with 1 Axes>"
      ]
     },
     "metadata": {
      "needs_background": "light"
     },
     "output_type": "display_data"
    }
   ],
   "source": [
    "loss_ges = np.append(loss_ges, history.history['loss'])\n",
    "plt.semilogy(history.history['loss'])\n",
    "\n",
    "if (Training_Percentage > 0):\n",
    "    val_loss_ges = np.append(val_loss_ges, history.history['val_loss'])\n",
    "    plt.semilogy(history.history['val_loss'])\n",
    "\n",
    "plt.title('model loss')\n",
    "plt.ylabel('loss')\n",
    "plt.xlabel('epoch')\n",
    "plt.legend(['train','eval'], loc='upper left')\n",
    "plt.show()"
   ]
  },
  {
   "cell_type": "markdown",
   "metadata": {},
   "source": [
    "### Check the model by hand\n",
    "\n",
    "* The following code uses the trained model to check the deviation for each picture.\n",
    "* x-axis walks through each pixel, y-axis shows the result"
   ]
  },
  {
   "cell_type": "markdown",
   "metadata": {},
   "source": [
    "### Check each image for expected and deviation\n",
    "* setting the switch \"only_deviation = true\" will only print the images for which the classification and the CNN-result deviates\n",
    "\n",
    "The output contains the following information:\n",
    "\n",
    "| Filename      | Expected Category           | Predicted Category        |\n",
    "|------------- |:-----------------------------:|--------------|\n",
    "| ziffer_sortiert_resize_NaN/5\\Ziffer_4_0034.jpg | 4  | -1 |\n"
   ]
  },
  {
   "cell_type": "code",
   "execution_count": 6,
   "metadata": {},
   "outputs": [
    {
     "name": "stdout",
     "output_type": "stream",
     "text": [
      "ziffer_sortiert_vd_resize/6_dig0001_20211122-202608.jpg 6 -1\n"
     ]
    },
    {
     "data": {
      "image/png": "[encoded data removed]",
      "text/plain": [
       "<PIL.JpegImagePlugin.JpegImageFile image mode=RGB size=20x32 at 0x7F4964215CD0>"
      ]
     },
     "metadata": {},
     "output_type": "display_data"
    },
    {
     "name": "stdout",
     "output_type": "stream",
     "text": [
      "ziffer_sortiert_vd_resize/NaN_1_dig0001_20211111-160932.jpg -1 2\n"
     ]
    },
    {
     "data": {
      "image/png": "[encoded data removed]",
      "text/plain": [
       "<PIL.JpegImagePlugin.JpegImageFile image mode=RGB size=20x32 at 0x7F49644E5EE0>"
      ]
     },
     "metadata": {},
     "output_type": "display_data"
    },
    {
     "name": "stdout",
     "output_type": "stream",
     "text": [
      "ziffer_sortiert_vd_resize/NaN_2_dig001_20211111-075800.jpg -1 3\n"
     ]
    },
    {
     "data": {
      "image/png": "[encoded data removed]",
      "text/plain": [
       "<PIL.JpegImagePlugin.JpegImageFile image mode=RGB size=20x32 at 0x7F495DF91E20>"
      ]
     },
     "metadata": {},
     "output_type": "display_data"
    },
    {
     "name": "stdout",
     "output_type": "stream",
     "text": [
      "ziffer_sortiert_vd_resize/NaN_3_dig0001_20211125-224921.jpg -1 3\n"
     ]
    },
    {
     "data": {
      "image/png": "[encoded data removed]",
      "text/plain": [
       "<PIL.JpegImagePlugin.JpegImageFile image mode=RGB size=20x32 at 0x7F49644ECFD0>"
      ]
     },
     "metadata": {},
     "output_type": "display_data"
    },
    {
     "name": "stdout",
     "output_type": "stream",
     "text": [
      "ziffer_sortiert_vd_resize/NaN_6_dig0001_20211111-071300.jpg -1 7\n"
     ]
    },
    {
     "data": {
      "image/png": "[encoded data removed]",
      "text/plain": [
       "<PIL.JpegImagePlugin.JpegImageFile image mode=RGB size=20x32 at 0x7F4964045F40>"
      ]
     },
     "metadata": {},
     "output_type": "display_data"
    },
    {
     "data": {
      "image/png": "[encoded data removed]",
      "text/plain": [
       "<Figure size 432x288 with 1 Axes>"
      ]
     },
     "metadata": {
      "needs_background": "light"
     },
     "output_type": "display_data"
    }
   ],
   "source": [
    "Input_dir='ziffer_sortiert_vd_resize'\n",
    "res = []\n",
    "only_deviation = True\n",
    "show_wrong_image = True\n",
    "\n",
    "files = glob.glob(Input_dir + '/*.jpg')\n",
    "\n",
    "for aktfile in files:\n",
    "    base = os.path.basename(aktfile)\n",
    "    target = base[0:1]\n",
    "    if target == \"N\":\n",
    "        zw1 = -1\n",
    "    else:\n",
    "        zw1 = int(target)\n",
    "    expected_class = zw1\n",
    "    image_in = Image.open(aktfile)\n",
    "    test_image = np.array(image_in, dtype=\"float32\")\n",
    "    img = np.reshape(test_image,[1,32,20,3])\n",
    "    classes = np.argmax(model.predict(img), axis=-1)\n",
    "    classes = classes[0]\n",
    "    if classes == 10: \n",
    "        classes = -1\n",
    "    zw2 = classes\n",
    "    zw3 = zw2 - zw1\n",
    "    res.append(np.array([zw1, zw2, zw3]))\n",
    "    if only_deviation == True:\n",
    "        if str(classes) != str(expected_class):\n",
    "            print(aktfile + \" \" + str(expected_class) +  \" \" + str(classes))\n",
    "            if show_wrong_image == True:\n",
    "                display(image_in)\n",
    "    else:\n",
    "        print(aktfile + \" \" + aktsubdir +  \" \" + str(classes))\n",
    "        \n",
    "\n",
    "res = np.asarray(res)\n",
    "\n",
    "\n",
    "plt.plot(res[:,0])\n",
    "plt.plot(res[:,1])\n",
    "plt.title('Result')\n",
    "plt.ylabel('Digital Value')\n",
    "plt.xlabel('#Picture')\n",
    "plt.legend(['real','model'], loc='upper left')\n",
    "plt.show()"
   ]
  },
  {
   "cell_type": "markdown",
   "metadata": {},
   "source": [
    "### Save the model\n",
    "\n",
    "* Save the model to the file with the \"h5\" file format"
   ]
  },
  {
   "cell_type": "code",
   "execution_count": 7,
   "metadata": {},
   "outputs": [
    {
     "name": "stderr",
     "output_type": "stream",
     "text": [
      "2021-12-12 12:13:31.704582: W tensorflow/python/util/util.cc:368] Sets are not currently considered sequences, but this may change in the future, so consider avoiding using them.\n"
     ]
    },
    {
     "name": "stdout",
     "output_type": "stream",
     "text": [
      "INFO:tensorflow:Assets written to: dig1320s3vd7/assets\n",
      "INFO:tensorflow:Assets written to: /tmp/tmprmva1hi4/assets\n"
     ]
    },
    {
     "name": "stderr",
     "output_type": "stream",
     "text": [
      "2021-12-12 12:13:34.392222: W tensorflow/compiler/mlir/lite/python/tf_tfl_flatbuffer_helpers.cc:363] Ignored output_format.\n",
      "2021-12-12 12:13:34.392282: W tensorflow/compiler/mlir/lite/python/tf_tfl_flatbuffer_helpers.cc:366] Ignored drop_control_dependency.\n",
      "WARNING:absl:Buffer deduplication procedure will be skipped when flatbuffer library is not properly loaded\n",
      "2021-12-12 12:13:34.392962: I tensorflow/cc/saved_model/reader.cc:43] Reading SavedModel from: /tmp/tmprmva1hi4\n",
      "2021-12-12 12:13:34.395242: I tensorflow/cc/saved_model/reader.cc:107] Reading meta graph with tags { serve }\n",
      "2021-12-12 12:13:34.395269: I tensorflow/cc/saved_model/reader.cc:148] Reading SavedModel debug info (if present) from: /tmp/tmprmva1hi4\n",
      "2021-12-12 12:13:34.404864: I tensorflow/cc/saved_model/loader.cc:210] Restoring SavedModel bundle.\n",
      "2021-12-12 12:13:34.463501: I tensorflow/cc/saved_model/loader.cc:194] Running initialization op on SavedModel bundle at path: /tmp/tmprmva1hi4\n",
      "2021-12-12 12:13:34.483241: I tensorflow/cc/saved_model/loader.cc:283] SavedModel load for tags { serve }; Status: success: OK. Took 90282 microseconds.\n",
      "2021-12-12 12:13:34.507160: I tensorflow/compiler/mlir/tensorflow/utils/dump_mlir_util.cc:237] disabling MLIR crash reproducer, set env var `MLIR_CRASH_REPRODUCER_DIRECTORY` to enable.\n"
     ]
    },
    {
     "data": {
      "text/plain": [
       "219168"
      ]
     },
     "execution_count": 7,
     "metadata": {},
     "output_type": "execute_result"
    }
   ],
   "source": [
    "FileName = TFliteNamingAndVersion\n",
    "\n",
    "model.save(FileName)\n",
    "\n",
    "converter = tf.lite.TFLiteConverter.from_keras_model(model)\n",
    "tflite_model = converter.convert()\n",
    "open(FileName + \".tflite\", \"wb\").write(tflite_model)"
   ]
  },
  {
   "cell_type": "code",
   "execution_count": 8,
   "metadata": {},
   "outputs": [
    {
     "name": "stdout",
     "output_type": "stream",
     "text": [
      "INFO:tensorflow:Assets written to: /tmp/tmppfxqoe24/assets\n"
     ]
    },
    {
     "name": "stderr",
     "output_type": "stream",
     "text": [
      "INFO:tensorflow:Assets written to: /tmp/tmppfxqoe24/assets\n",
      "2021-12-12 12:13:36.431602: W tensorflow/compiler/mlir/lite/python/tf_tfl_flatbuffer_helpers.cc:363] Ignored output_format.\n",
      "2021-12-12 12:13:36.431671: W tensorflow/compiler/mlir/lite/python/tf_tfl_flatbuffer_helpers.cc:366] Ignored drop_control_dependency.\n",
      "2021-12-12 12:13:36.432006: I tensorflow/cc/saved_model/reader.cc:43] Reading SavedModel from: /tmp/tmppfxqoe24\n",
      "2021-12-12 12:13:36.435565: I tensorflow/cc/saved_model/reader.cc:107] Reading meta graph with tags { serve }\n",
      "2021-12-12 12:13:36.435607: I tensorflow/cc/saved_model/reader.cc:148] Reading SavedModel debug info (if present) from: /tmp/tmppfxqoe24\n",
      "2021-12-12 12:13:36.446997: I tensorflow/cc/saved_model/loader.cc:210] Restoring SavedModel bundle.\n",
      "2021-12-12 12:13:36.511875: I tensorflow/cc/saved_model/loader.cc:194] Running initialization op on SavedModel bundle at path: /tmp/tmppfxqoe24\n",
      "2021-12-12 12:13:36.533716: I tensorflow/cc/saved_model/loader.cc:283] SavedModel load for tags { serve }; Status: success: OK. Took 101798 microseconds.\n",
      "fully_quantize: 0, inference_type: 6, input_inference_type: 0, output_inference_type: 0\n",
      "WARNING:absl:Buffer deduplication procedure will be skipped when flatbuffer library is not properly loaded\n"
     ]
    },
    {
     "name": "stdout",
     "output_type": "stream",
     "text": [
      "dig1320s3vd7q.tflite\n"
     ]
    },
    {
     "data": {
      "text/plain": [
       "62136"
      ]
     },
     "execution_count": 8,
     "metadata": {},
     "output_type": "execute_result"
    }
   ],
   "source": [
    "FileName = TFliteNamingAndVersion + \"q.tflite\"\n",
    "\n",
    "import tensorflow as tf\n",
    "\n",
    "def representative_dataset():\n",
    "    for n in range(x_data[0].size):\n",
    "      data = np.expand_dims(x_data[5], axis=0)\n",
    "      yield [data.astype(np.float32)]\n",
    "        \n",
    "converter2 = tf.lite.TFLiteConverter.from_keras_model(model)\n",
    "converter2.representative_dataset = representative_dataset\n",
    "converter2.optimizations = [tf.lite.Optimize.DEFAULT]\n",
    "converter2.representative_dataset = representative_dataset\n",
    "tflite_quant_model = converter2.convert()\n",
    "\n",
    "open(FileName, \"wb\").write(tflite_quant_model)\n",
    "print(FileName)\n",
    "Path(FileName).stat().st_size"
   ]
  }
 ],
 "metadata": {
  "kernelspec": {
   "display_name": "Python 3 (ipykernel)",
   "language": "python",
   "name": "python3"
  },
  "language_info": {
   "codemirror_mode": {
    "name": "ipython",
    "version": 3
   },
   "file_extension": ".py",
   "mimetype": "text/x-python",
   "name": "python",
   "nbconvert_exporter": "python",
   "pygments_lexer": "ipython3",
   "version": "3.9.7"
  }
 },
 "nbformat": 4,
 "nbformat_minor": 4
}
