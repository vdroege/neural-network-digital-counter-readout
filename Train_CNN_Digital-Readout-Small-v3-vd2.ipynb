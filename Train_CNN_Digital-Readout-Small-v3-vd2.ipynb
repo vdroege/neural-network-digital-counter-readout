{
 "cells": [
  {
   "cell_type": "markdown",
   "metadata": {},
   "source": [
    "# CNN Training\n",
    "\n",
    "Target of this code is to train a CNN network to classify images of a digital readout to the digits 0 to 9. Additionally a category \"NaN\" is introduced, to mark images that are not amibiguous.\n",
    "\n",
    "### Preparing the training\n",
    "* First all libraries are loaded\n",
    "    * It is assumed, that they are installed during the Python setup\n",
    "* matplotlib is set to print the output inline in the jupyter notebook"
   ]
  },
  {
   "cell_type": "code",
   "execution_count": 1,
   "metadata": {
    "scrolled": true
   },
   "outputs": [
    {
     "name": "stderr",
     "output_type": "stream",
     "text": [
      "2021-12-02 16:35:41.878841: W tensorflow/stream_executor/platform/default/dso_loader.cc:64] Could not load dynamic library 'libcudart.so.11.0'; dlerror: libcudart.so.11.0: cannot open shared object file: No such file or directory\n",
      "2021-12-02 16:35:41.878942: I tensorflow/stream_executor/cuda/cudart_stub.cc:29] Ignore above cudart dlerror if you do not have a GPU set up on your machine.\n"
     ]
    }
   ],
   "source": [
    "########### Basic Parameters for Running: ################################\n",
    "    \n",
    "TFliteNamingAndVersion = \"dig1320s3vd2\"   # Used for tflite Filename\n",
    "Training_Percentage = 0.2              # 0.0 = Use all Images for Training\n",
    "Epoch_Anz = 100\n",
    "\n",
    "##########################################################################\n",
    "\n",
    "\n",
    "import tensorflow as tf\n",
    "import matplotlib.pyplot as plt\n",
    "import glob\n",
    "import os\n",
    "import numpy as np\n",
    "from sklearn.utils import shuffle\n",
    "from tensorflow.python import keras\n",
    "from tensorflow.python.keras import Sequential\n",
    "from tensorflow.python.keras.layers import Dense, InputLayer, Conv2D, MaxPool2D, Flatten, BatchNormalization\n",
    "from tensorflow.keras.preprocessing.image import ImageDataGenerator\n",
    "from sklearn.model_selection import train_test_split\n",
    "from tensorflow.keras.callbacks import History \n",
    "from tensorflow.keras.utils import to_categorical\n",
    "from tensorflow.python.keras.optimizer_v2 import adadelta as adadelta_v2\n",
    "from PIL import Image \n",
    "from pathlib import Path\n",
    "\n",
    "loss_ges = np.array([])\n",
    "val_loss_ges = np.array([])\n",
    "\n",
    "%matplotlib inline\n",
    "np.set_printoptions(precision=4)\n",
    "np.set_printoptions(suppress=True)"
   ]
  },
  {
   "cell_type": "markdown",
   "metadata": {},
   "source": [
    "### Load training data\n",
    "* The data is expected in the \"Input_dir\"\n",
    "* Inside subdirectories are expected from -1, 0, 1, ... 9 in which the pictures are sorted according to their values (=category)\n",
    "* Picture size must be 20x32 with 3 color channels (RGB)\n",
    "* The filename can be arbitrary\n",
    "\n",
    "* The images are stored in the x_data[]\n",
    "* The expected category for each image in the corresponding y_data[]\n",
    "\n",
    "* The last step is a shuffle (from sklearn.utils) and split the data into training and validation data"
   ]
  },
  {
   "cell_type": "code",
   "execution_count": 2,
   "metadata": {},
   "outputs": [
    {
     "name": "stdout",
     "output_type": "stream",
     "text": [
      "(687, 32, 20, 3)\n",
      "(687, 11)\n"
     ]
    }
   ],
   "source": [
    "Input_dir='ziffer_sortiert_vd_resize'\n",
    "\n",
    "files = glob.glob(Input_dir + '/*.jpg')\n",
    "x_data = []\n",
    "y_data = []\n",
    "\n",
    "for aktfile in files:\n",
    "    base = os.path.basename(aktfile)\n",
    "    target = base[0:1]\n",
    "    if target == \"N\":\n",
    "        category = 10                # NaN does not work --> convert to 10\n",
    "    else:\n",
    "        category = int(target)\n",
    "    test_image = Image.open(aktfile)\n",
    "    test_image = np.array(test_image, dtype=\"float32\")\n",
    "    x_data.append(test_image)\n",
    "    y_data.append(np.array([category]))\n",
    "\n",
    "x_data = np.array(x_data)\n",
    "y_data = np.array(y_data)\n",
    "y_data = to_categorical(y_data, 11)\n",
    "print(x_data.shape)\n",
    "print(y_data.shape)\n",
    "\n",
    "x_data, y_data = shuffle(x_data, y_data)\n",
    "\n",
    "if (Training_Percentage > 0):\n",
    "    X_train, X_test, y_train, y_test = train_test_split(x_data, y_data, test_size=Training_Percentage)\n",
    "else:\n",
    "    X_train = x_data\n",
    "    y_train = y_data"
   ]
  },
  {
   "cell_type": "markdown",
   "metadata": {},
   "source": [
    "### Define the model\n",
    "\n",
    "The layout of the network ist a typcial CNN network with alternating **Conv2D** and **MaxPool2D** layers. Finished after **flattening** with additional **Dense** layer.\n",
    "\n",
    "#### Important\n",
    "* Shape of the input layer: (32, 20, 3)\n",
    "* Number of output layers: 11\n",
    "* As loss function \"categorical_crossentropy\" is choosen, as it is a categories task"
   ]
  },
  {
   "cell_type": "code",
   "execution_count": 3,
   "metadata": {},
   "outputs": [
    {
     "name": "stdout",
     "output_type": "stream",
     "text": [
      "Model: \"sequential\"\n",
      "_________________________________________________________________\n",
      "Layer (type)                 Output Shape              Param #   \n",
      "=================================================================\n",
      "batch_normalization (BatchNo (None, 32, 20, 3)         12        \n",
      "_________________________________________________________________\n",
      "conv2d (Conv2D)              (None, 32, 20, 32)        896       \n",
      "_________________________________________________________________\n",
      "max_pooling2d (MaxPooling2D) (None, 16, 10, 32)        0         \n",
      "_________________________________________________________________\n",
      "conv2d_1 (Conv2D)            (None, 16, 10, 32)        9248      \n",
      "_________________________________________________________________\n",
      "max_pooling2d_1 (MaxPooling2 (None, 8, 5, 32)          0         \n",
      "_________________________________________________________________\n",
      "conv2d_2 (Conv2D)            (None, 8, 5, 32)          9248      \n",
      "_________________________________________________________________\n",
      "max_pooling2d_2 (MaxPooling2 (None, 4, 2, 32)          0         \n",
      "_________________________________________________________________\n",
      "flatten (Flatten)            (None, 256)               0         \n",
      "_________________________________________________________________\n",
      "dense (Dense)                (None, 128)               32896     \n",
      "_________________________________________________________________\n",
      "dense_1 (Dense)              (None, 11)                1419      \n",
      "=================================================================\n",
      "Total params: 53,719\n",
      "Trainable params: 53,713\n",
      "Non-trainable params: 6\n",
      "_________________________________________________________________\n"
     ]
    },
    {
     "name": "stderr",
     "output_type": "stream",
     "text": [
      "2021-12-02 16:35:50.584585: W tensorflow/stream_executor/platform/default/dso_loader.cc:64] Could not load dynamic library 'libcuda.so.1'; dlerror: libcuda.so.1: cannot open shared object file: No such file or directory\n",
      "2021-12-02 16:35:50.584748: W tensorflow/stream_executor/cuda/cuda_driver.cc:269] failed call to cuInit: UNKNOWN ERROR (303)\n",
      "2021-12-02 16:35:50.584945: I tensorflow/stream_executor/cuda/cuda_diagnostics.cc:156] kernel driver does not appear to be running on this host (384b5c5cda9f): /proc/driver/nvidia/version does not exist\n",
      "2021-12-02 16:35:50.586344: I tensorflow/core/platform/cpu_feature_guard.cc:151] This TensorFlow binary is optimized with oneAPI Deep Neural Network Library (oneDNN) to use the following CPU instructions in performance-critical operations:  AVX2 FMA\n",
      "To enable them in other operations, rebuild TensorFlow with the appropriate compiler flags.\n"
     ]
    }
   ],
   "source": [
    "model = Sequential()\n",
    "model.add(BatchNormalization(input_shape=(32,20,3)))\n",
    "model.add(Conv2D(32, (3, 3), padding='same', activation=\"relu\"))\n",
    "model.add(MaxPool2D(pool_size=(2,2)))\n",
    "model.add(Conv2D(32, (3, 3), padding='same', activation=\"relu\"))\n",
    "model.add(MaxPool2D(pool_size=(2,2)))\n",
    "model.add(Conv2D(32, (3, 3), padding='same', activation=\"relu\"))\n",
    "model.add(MaxPool2D(pool_size=(2,2)))\n",
    "model.add(Flatten())\n",
    "model.add(Dense(128,activation=\"relu\"))\n",
    "model.add(Dense(11, activation = \"softmax\"))\n",
    "model.summary()\n",
    "\n",
    "model.compile(loss=tf.keras.losses.categorical_crossentropy, optimizer=tf.keras.optimizers.Adadelta(learning_rate=1.0, rho=0.95), metrics = [\"accuracy\"])"
   ]
  },
  {
   "cell_type": "markdown",
   "metadata": {},
   "source": [
    "# Training\n",
    "The input pictures are randomly scattered for brightness, pixel shift variations and rotation angle. This is implemented with a ImageDataGenerator.\n"
   ]
  },
  {
   "cell_type": "code",
   "execution_count": 4,
   "metadata": {
    "scrolled": true
   },
   "outputs": [
    {
     "name": "stdout",
     "output_type": "stream",
     "text": [
      "Epoch 1/100\n",
      "172/172 [==============================] - 2s 9ms/step - loss: 2.2520 - accuracy: 0.2125 - val_loss: 2.1235 - val_accuracy: 0.3116\n",
      "Epoch 2/100\n",
      "172/172 [==============================] - 1s 7ms/step - loss: 1.6956 - accuracy: 0.4396 - val_loss: 1.4788 - val_accuracy: 0.4710\n",
      "Epoch 3/100\n",
      "172/172 [==============================] - 1s 8ms/step - loss: 1.1958 - accuracy: 0.6012 - val_loss: 0.8923 - val_accuracy: 0.6957\n",
      "Epoch 4/100\n",
      "172/172 [==============================] - 2s 9ms/step - loss: 0.9041 - accuracy: 0.7307 - val_loss: 0.7560 - val_accuracy: 0.7971\n",
      "Epoch 5/100\n",
      "172/172 [==============================] - 1s 6ms/step - loss: 0.6669 - accuracy: 0.8166 - val_loss: 0.6696 - val_accuracy: 0.8043\n",
      "Epoch 6/100\n",
      "172/172 [==============================] - 1s 8ms/step - loss: 0.5165 - accuracy: 0.8341 - val_loss: 0.4208 - val_accuracy: 0.8696\n",
      "Epoch 7/100\n",
      "172/172 [==============================] - 1s 7ms/step - loss: 0.5601 - accuracy: 0.8326 - val_loss: 0.4200 - val_accuracy: 0.8623\n",
      "Epoch 8/100\n",
      "172/172 [==============================] - 1s 8ms/step - loss: 0.4156 - accuracy: 0.8865 - val_loss: 0.3373 - val_accuracy: 0.8986\n",
      "Epoch 9/100\n",
      "172/172 [==============================] - 2s 9ms/step - loss: 0.4038 - accuracy: 0.8865 - val_loss: 0.3036 - val_accuracy: 0.8986\n",
      "Epoch 10/100\n",
      "172/172 [==============================] - 1s 6ms/step - loss: 0.2908 - accuracy: 0.9112 - val_loss: 0.5152 - val_accuracy: 0.8261\n",
      "Epoch 11/100\n",
      "172/172 [==============================] - 1s 7ms/step - loss: 0.2793 - accuracy: 0.9112 - val_loss: 0.2614 - val_accuracy: 0.9058\n",
      "Epoch 12/100\n",
      "172/172 [==============================] - 1s 7ms/step - loss: 0.3009 - accuracy: 0.9199 - val_loss: 0.2550 - val_accuracy: 0.8913\n",
      "Epoch 13/100\n",
      "172/172 [==============================] - 1s 9ms/step - loss: 0.2714 - accuracy: 0.9199 - val_loss: 0.2448 - val_accuracy: 0.9348\n",
      "Epoch 14/100\n",
      "172/172 [==============================] - 2s 10ms/step - loss: 0.2499 - accuracy: 0.9170 - val_loss: 0.1542 - val_accuracy: 0.9420\n",
      "Epoch 15/100\n",
      "172/172 [==============================] - 1s 8ms/step - loss: 0.2372 - accuracy: 0.9214 - val_loss: 0.1591 - val_accuracy: 0.9493\n",
      "Epoch 16/100\n",
      "172/172 [==============================] - 1s 7ms/step - loss: 0.2237 - accuracy: 0.9287 - val_loss: 0.1717 - val_accuracy: 0.9420\n",
      "Epoch 17/100\n",
      "172/172 [==============================] - 1s 6ms/step - loss: 0.2066 - accuracy: 0.9360 - val_loss: 0.2705 - val_accuracy: 0.9058\n",
      "Epoch 18/100\n",
      "172/172 [==============================] - 1s 7ms/step - loss: 0.1880 - accuracy: 0.9549 - val_loss: 0.2087 - val_accuracy: 0.9420\n",
      "Epoch 19/100\n",
      "172/172 [==============================] - 1s 8ms/step - loss: 0.1632 - accuracy: 0.9534 - val_loss: 0.1756 - val_accuracy: 0.9348\n",
      "Epoch 20/100\n",
      "172/172 [==============================] - 1s 8ms/step - loss: 0.1648 - accuracy: 0.9549 - val_loss: 0.0969 - val_accuracy: 0.9638\n",
      "Epoch 21/100\n",
      "172/172 [==============================] - 1s 7ms/step - loss: 0.1303 - accuracy: 0.9680 - val_loss: 0.0950 - val_accuracy: 0.9710\n",
      "Epoch 22/100\n",
      "172/172 [==============================] - 1s 8ms/step - loss: 0.2144 - accuracy: 0.9505 - val_loss: 0.1615 - val_accuracy: 0.9565\n",
      "Epoch 23/100\n",
      "172/172 [==============================] - 1s 7ms/step - loss: 0.1231 - accuracy: 0.9622 - val_loss: 0.1617 - val_accuracy: 0.9420\n",
      "Epoch 24/100\n",
      "172/172 [==============================] - 1s 7ms/step - loss: 0.1592 - accuracy: 0.9534 - val_loss: 0.1274 - val_accuracy: 0.9710\n",
      "Epoch 25/100\n",
      "172/172 [==============================] - 1s 8ms/step - loss: 0.1412 - accuracy: 0.9563 - val_loss: 0.0962 - val_accuracy: 0.9493\n",
      "Epoch 26/100\n",
      "172/172 [==============================] - ETA: 0s - loss: 0.1522 - accuracy: 0.95 - 1s 7ms/step - loss: 0.1487 - accuracy: 0.9578 - val_loss: 0.0521 - val_accuracy: 0.9855\n",
      "Epoch 27/100\n",
      "172/172 [==============================] - 1s 8ms/step - loss: 0.1365 - accuracy: 0.9578 - val_loss: 0.1654 - val_accuracy: 0.9493\n",
      "Epoch 28/100\n",
      "172/172 [==============================] - 1s 8ms/step - loss: 0.1113 - accuracy: 0.9665 - val_loss: 0.0900 - val_accuracy: 0.9783\n",
      "Epoch 29/100\n",
      "172/172 [==============================] - 2s 9ms/step - loss: 0.1272 - accuracy: 0.9665 - val_loss: 0.0828 - val_accuracy: 0.9710\n",
      "Epoch 30/100\n",
      "172/172 [==============================] - 1s 7ms/step - loss: 0.1540 - accuracy: 0.9563 - val_loss: 0.1038 - val_accuracy: 0.9710\n",
      "Epoch 31/100\n",
      "172/172 [==============================] - 1s 7ms/step - loss: 0.1370 - accuracy: 0.9607 - val_loss: 0.1749 - val_accuracy: 0.9493\n",
      "Epoch 32/100\n",
      "172/172 [==============================] - 1s 7ms/step - loss: 0.1455 - accuracy: 0.9563 - val_loss: 0.1628 - val_accuracy: 0.9565\n",
      "Epoch 33/100\n",
      "172/172 [==============================] - 1s 7ms/step - loss: 0.1115 - accuracy: 0.9636 - val_loss: 0.1147 - val_accuracy: 0.9565\n",
      "Epoch 34/100\n",
      "172/172 [==============================] - 1s 7ms/step - loss: 0.1148 - accuracy: 0.9665 - val_loss: 0.0286 - val_accuracy: 1.0000\n",
      "Epoch 35/100\n",
      "172/172 [==============================] - 1s 8ms/step - loss: 0.0845 - accuracy: 0.9753 - val_loss: 0.0669 - val_accuracy: 0.9710\n",
      "Epoch 36/100\n",
      "172/172 [==============================] - 1s 7ms/step - loss: 0.1148 - accuracy: 0.9607 - val_loss: 0.1166 - val_accuracy: 0.9638\n",
      "Epoch 37/100\n",
      "172/172 [==============================] - 1s 7ms/step - loss: 0.1145 - accuracy: 0.9753 - val_loss: 0.0636 - val_accuracy: 0.9783\n",
      "Epoch 38/100\n",
      "172/172 [==============================] - 1s 7ms/step - loss: 0.1290 - accuracy: 0.9622 - val_loss: 0.2156 - val_accuracy: 0.9130\n",
      "Epoch 39/100\n",
      "172/172 [==============================] - 1s 6ms/step - loss: 0.0876 - accuracy: 0.9651 - val_loss: 0.0918 - val_accuracy: 0.9565\n",
      "Epoch 40/100\n",
      "172/172 [==============================] - 1s 7ms/step - loss: 0.0992 - accuracy: 0.9709 - val_loss: 0.1255 - val_accuracy: 0.9783\n",
      "Epoch 41/100\n",
      "172/172 [==============================] - 1s 7ms/step - loss: 0.0943 - accuracy: 0.9753 - val_loss: 0.0784 - val_accuracy: 0.9565\n",
      "Epoch 42/100\n",
      "172/172 [==============================] - 1s 7ms/step - loss: 0.0932 - accuracy: 0.9723 - val_loss: 0.0925 - val_accuracy: 0.9783\n",
      "Epoch 43/100\n",
      "172/172 [==============================] - 1s 8ms/step - loss: 0.0989 - accuracy: 0.9709 - val_loss: 0.0775 - val_accuracy: 0.9855\n",
      "Epoch 44/100\n",
      "172/172 [==============================] - 1s 7ms/step - loss: 0.0895 - accuracy: 0.9753 - val_loss: 0.0784 - val_accuracy: 0.9783\n",
      "Epoch 45/100\n",
      "172/172 [==============================] - 1s 7ms/step - loss: 0.1257 - accuracy: 0.9665 - val_loss: 0.0908 - val_accuracy: 0.9710\n",
      "Epoch 46/100\n",
      "172/172 [==============================] - 1s 7ms/step - loss: 0.0838 - accuracy: 0.9694 - val_loss: 0.0582 - val_accuracy: 0.9783\n",
      "Epoch 47/100\n",
      "172/172 [==============================] - 1s 7ms/step - loss: 0.0683 - accuracy: 0.9811 - val_loss: 0.0581 - val_accuracy: 0.9710\n",
      "Epoch 48/100\n",
      "172/172 [==============================] - 1s 8ms/step - loss: 0.1189 - accuracy: 0.9622 - val_loss: 0.0611 - val_accuracy: 0.9855\n",
      "Epoch 49/100\n",
      "172/172 [==============================] - 1s 7ms/step - loss: 0.1137 - accuracy: 0.9607 - val_loss: 0.1017 - val_accuracy: 0.9783\n",
      "Epoch 50/100\n",
      "172/172 [==============================] - 1s 7ms/step - loss: 0.0951 - accuracy: 0.9723 - val_loss: 0.0650 - val_accuracy: 0.9928\n",
      "Epoch 51/100\n",
      "172/172 [==============================] - 1s 7ms/step - loss: 0.0768 - accuracy: 0.9738 - val_loss: 0.1454 - val_accuracy: 0.9783\n",
      "Epoch 52/100\n",
      "172/172 [==============================] - 1s 7ms/step - loss: 0.0971 - accuracy: 0.9709 - val_loss: 0.0684 - val_accuracy: 0.9783\n",
      "Epoch 53/100\n",
      "172/172 [==============================] - 1s 7ms/step - loss: 0.0988 - accuracy: 0.9680 - val_loss: 0.0938 - val_accuracy: 0.9638\n",
      "Epoch 54/100\n",
      "172/172 [==============================] - 1s 8ms/step - loss: 0.0936 - accuracy: 0.9753 - val_loss: 0.0220 - val_accuracy: 0.9928\n",
      "Epoch 55/100\n",
      "172/172 [==============================] - 1s 8ms/step - loss: 0.0609 - accuracy: 0.9782 - val_loss: 0.0546 - val_accuracy: 0.9855\n",
      "Epoch 56/100\n",
      "172/172 [==============================] - 1s 8ms/step - loss: 0.1119 - accuracy: 0.9767 - val_loss: 0.0247 - val_accuracy: 0.9928\n",
      "Epoch 57/100\n",
      "172/172 [==============================] - 1s 8ms/step - loss: 0.0935 - accuracy: 0.9665 - val_loss: 0.0681 - val_accuracy: 0.9783\n",
      "Epoch 58/100\n",
      "172/172 [==============================] - 1s 7ms/step - loss: 0.0828 - accuracy: 0.9723 - val_loss: 0.0280 - val_accuracy: 0.9928\n",
      "Epoch 59/100\n",
      "172/172 [==============================] - 1s 8ms/step - loss: 0.0577 - accuracy: 0.9796 - val_loss: 0.0564 - val_accuracy: 0.9783\n",
      "Epoch 60/100\n",
      "172/172 [==============================] - 1s 8ms/step - loss: 0.0807 - accuracy: 0.9767 - val_loss: 0.1155 - val_accuracy: 0.9710\n",
      "Epoch 61/100\n",
      "172/172 [==============================] - 1s 9ms/step - loss: 0.1387 - accuracy: 0.9680 - val_loss: 0.0668 - val_accuracy: 0.9928\n",
      "Epoch 62/100\n",
      "172/172 [==============================] - 1s 8ms/step - loss: 0.0719 - accuracy: 0.9738 - val_loss: 0.0496 - val_accuracy: 0.9783\n",
      "Epoch 63/100\n",
      "172/172 [==============================] - 1s 7ms/step - loss: 0.0530 - accuracy: 0.9767 - val_loss: 0.0618 - val_accuracy: 0.9783\n",
      "Epoch 64/100\n",
      "172/172 [==============================] - 1s 9ms/step - loss: 0.1281 - accuracy: 0.9680 - val_loss: 0.0360 - val_accuracy: 0.9928\n",
      "Epoch 65/100\n",
      "172/172 [==============================] - 1s 8ms/step - loss: 0.0744 - accuracy: 0.9796 - val_loss: 0.0526 - val_accuracy: 0.9855\n",
      "Epoch 66/100\n",
      "172/172 [==============================] - 1s 7ms/step - loss: 0.1151 - accuracy: 0.9665 - val_loss: 0.1248 - val_accuracy: 0.9565\n",
      "Epoch 67/100\n",
      "172/172 [==============================] - 1s 7ms/step - loss: 0.0662 - accuracy: 0.9796 - val_loss: 0.1147 - val_accuracy: 0.9710\n",
      "Epoch 68/100\n",
      "172/172 [==============================] - 1s 6ms/step - loss: 0.0616 - accuracy: 0.9767 - val_loss: 0.0342 - val_accuracy: 0.9783\n",
      "Epoch 69/100\n",
      "172/172 [==============================] - 2s 9ms/step - loss: 0.0832 - accuracy: 0.9709 - val_loss: 0.0503 - val_accuracy: 0.9710\n",
      "Epoch 70/100\n",
      "172/172 [==============================] - 2s 9ms/step - loss: 0.0729 - accuracy: 0.9782 - val_loss: 0.0291 - val_accuracy: 0.9928\n",
      "Epoch 71/100\n",
      "172/172 [==============================] - 1s 7ms/step - loss: 0.0665 - accuracy: 0.9811 - val_loss: 0.0406 - val_accuracy: 0.9855\n",
      "Epoch 72/100\n",
      "172/172 [==============================] - 1s 7ms/step - loss: 0.1276 - accuracy: 0.9723 - val_loss: 0.0701 - val_accuracy: 0.9855\n",
      "Epoch 73/100\n",
      "172/172 [==============================] - 1s 7ms/step - loss: 0.0850 - accuracy: 0.9738 - val_loss: 0.0657 - val_accuracy: 0.9710\n",
      "Epoch 74/100\n",
      "172/172 [==============================] - 1s 9ms/step - loss: 0.0650 - accuracy: 0.9796 - val_loss: 0.0305 - val_accuracy: 0.9855\n",
      "Epoch 75/100\n",
      "172/172 [==============================] - 1s 7ms/step - loss: 0.0758 - accuracy: 0.9738 - val_loss: 0.0323 - val_accuracy: 0.9928\n",
      "Epoch 76/100\n",
      "172/172 [==============================] - 1s 7ms/step - loss: 0.0522 - accuracy: 0.9825 - val_loss: 0.0638 - val_accuracy: 0.9710\n",
      "Epoch 77/100\n",
      "172/172 [==============================] - 2s 9ms/step - loss: 0.0664 - accuracy: 0.9753 - val_loss: 0.0286 - val_accuracy: 0.9855\n",
      "Epoch 78/100\n",
      "172/172 [==============================] - 1s 8ms/step - loss: 0.0581 - accuracy: 0.9796 - val_loss: 0.0151 - val_accuracy: 0.9928\n",
      "Epoch 79/100\n",
      "172/172 [==============================] - 1s 8ms/step - loss: 0.0460 - accuracy: 0.9811 - val_loss: 0.0066 - val_accuracy: 1.0000\n",
      "Epoch 80/100\n",
      "172/172 [==============================] - 1s 7ms/step - loss: 0.0712 - accuracy: 0.9796 - val_loss: 0.0381 - val_accuracy: 0.9855\n",
      "Epoch 81/100\n",
      "172/172 [==============================] - 1s 7ms/step - loss: 0.0472 - accuracy: 0.9884 - val_loss: 0.0220 - val_accuracy: 0.9855\n",
      "Epoch 82/100\n",
      "172/172 [==============================] - 1s 7ms/step - loss: 0.0469 - accuracy: 0.9884 - val_loss: 0.1069 - val_accuracy: 0.9638\n",
      "Epoch 83/100\n",
      "172/172 [==============================] - 1s 7ms/step - loss: 0.0844 - accuracy: 0.9796 - val_loss: 0.1085 - val_accuracy: 0.9638\n",
      "Epoch 84/100\n",
      "172/172 [==============================] - 1s 8ms/step - loss: 0.0534 - accuracy: 0.9854 - val_loss: 0.0048 - val_accuracy: 1.0000\n",
      "Epoch 85/100\n",
      "172/172 [==============================] - 1s 9ms/step - loss: 0.0307 - accuracy: 0.9869 - val_loss: 0.0340 - val_accuracy: 0.9783\n",
      "Epoch 86/100\n",
      "172/172 [==============================] - 1s 7ms/step - loss: 0.0703 - accuracy: 0.9782 - val_loss: 0.0801 - val_accuracy: 0.9783\n",
      "Epoch 87/100\n",
      "172/172 [==============================] - 1s 6ms/step - loss: 0.0771 - accuracy: 0.9738 - val_loss: 0.0365 - val_accuracy: 0.9928\n",
      "Epoch 88/100\n",
      "172/172 [==============================] - 1s 7ms/step - loss: 0.0610 - accuracy: 0.9796 - val_loss: 0.0524 - val_accuracy: 0.9928\n",
      "Epoch 89/100\n",
      "172/172 [==============================] - 1s 7ms/step - loss: 0.0734 - accuracy: 0.9840 - val_loss: 0.0156 - val_accuracy: 0.9928\n",
      "Epoch 90/100\n",
      "172/172 [==============================] - 1s 8ms/step - loss: 0.0848 - accuracy: 0.9753 - val_loss: 0.0641 - val_accuracy: 0.9710\n",
      "Epoch 91/100\n",
      "172/172 [==============================] - 1s 7ms/step - loss: 0.0433 - accuracy: 0.9869 - val_loss: 0.0162 - val_accuracy: 1.0000\n",
      "Epoch 92/100\n",
      "172/172 [==============================] - 1s 8ms/step - loss: 0.0662 - accuracy: 0.9796 - val_loss: 0.0174 - val_accuracy: 0.9928\n",
      "Epoch 93/100\n",
      "172/172 [==============================] - 1s 7ms/step - loss: 0.0514 - accuracy: 0.9825 - val_loss: 0.0456 - val_accuracy: 0.9783\n",
      "Epoch 94/100\n",
      "172/172 [==============================] - 1s 8ms/step - loss: 0.0492 - accuracy: 0.9825 - val_loss: 0.0189 - val_accuracy: 0.9928\n",
      "Epoch 95/100\n",
      "172/172 [==============================] - 1s 7ms/step - loss: 0.0461 - accuracy: 0.9854 - val_loss: 0.0442 - val_accuracy: 0.9783\n",
      "Epoch 96/100\n",
      "172/172 [==============================] - 1s 7ms/step - loss: 0.0551 - accuracy: 0.9825 - val_loss: 0.0596 - val_accuracy: 0.9855\n",
      "Epoch 97/100\n",
      "172/172 [==============================] - 2s 9ms/step - loss: 0.0895 - accuracy: 0.9753 - val_loss: 0.0425 - val_accuracy: 0.9783\n",
      "Epoch 98/100\n",
      "172/172 [==============================] - 1s 7ms/step - loss: 0.0453 - accuracy: 0.9884 - val_loss: 0.0341 - val_accuracy: 0.9855\n",
      "Epoch 99/100\n",
      "172/172 [==============================] - 1s 7ms/step - loss: 0.0494 - accuracy: 0.9913 - val_loss: 0.0763 - val_accuracy: 0.9783\n",
      "Epoch 100/100\n",
      "172/172 [==============================] - 1s 7ms/step - loss: 0.0470 - accuracy: 0.9869 - val_loss: 0.0282 - val_accuracy: 0.9783\n"
     ]
    }
   ],
   "source": [
    "Batch_Size = 4\n",
    "Shift_Range = 1\n",
    "Brightness_Range = 0.3\n",
    "Rotation_Angle = 10\n",
    "ZoomRange = 0.4\n",
    "\n",
    "datagen = ImageDataGenerator(width_shift_range=[-Shift_Range,Shift_Range], \n",
    "                             height_shift_range=[-Shift_Range,Shift_Range],\n",
    "                             brightness_range=[1-Brightness_Range,1+Brightness_Range],\n",
    "                             zoom_range=[1-ZoomRange, 1+ZoomRange],\n",
    "                             rotation_range=Rotation_Angle)\n",
    "\n",
    "if (Training_Percentage > 0):\n",
    "    train_iterator = datagen.flow(x_data, y_data, batch_size=Batch_Size)\n",
    "    validation_iterator = datagen.flow(X_test, y_test, batch_size=Batch_Size)\n",
    "    history = model.fit(train_iterator, validation_data = validation_iterator, epochs = Epoch_Anz)\n",
    "else:\n",
    "    train_iterator = datagen.flow(x_data, y_data, batch_size=Batch_Size)\n",
    "    history = model.fit(train_iterator, epochs = Epoch_Anz)\n",
    "\n"
   ]
  },
  {
   "cell_type": "markdown",
   "metadata": {},
   "source": [
    "### Learing result\n",
    " \n",
    "* Visualization of the training and validation results"
   ]
  },
  {
   "cell_type": "code",
   "execution_count": 5,
   "metadata": {},
   "outputs": [
    {
     "data": {
      "image/png": "[encoded data removed]",
      "text/plain": [
       "<Figure size 432x288 with 1 Axes>"
      ]
     },
     "metadata": {
      "needs_background": "light"
     },
     "output_type": "display_data"
    }
   ],
   "source": [
    "loss_ges = np.append(loss_ges, history.history['loss'])\n",
    "plt.semilogy(history.history['loss'])\n",
    "\n",
    "if (Training_Percentage > 0):\n",
    "    val_loss_ges = np.append(val_loss_ges, history.history['val_loss'])\n",
    "    plt.semilogy(history.history['val_loss'])\n",
    "\n",
    "plt.title('model loss')\n",
    "plt.ylabel('loss')\n",
    "plt.xlabel('epoch')\n",
    "plt.legend(['train','eval'], loc='upper left')\n",
    "plt.show()"
   ]
  },
  {
   "cell_type": "markdown",
   "metadata": {},
   "source": [
    "### Check the model by hand\n",
    "\n",
    "* The following code uses the trained model to check the deviation for each picture.\n",
    "* x-axis walks through each pixel, y-axis shows the result"
   ]
  },
  {
   "cell_type": "markdown",
   "metadata": {},
   "source": [
    "### Check each image for expected and deviation\n",
    "* setting the switch \"only_deviation = true\" will only print the images for which the classification and the CNN-result deviates\n",
    "\n",
    "The output contains the following information:\n",
    "\n",
    "| Filename      | Expected Category           | Predicted Category        |\n",
    "|------------- |:-----------------------------:|--------------|\n",
    "| ziffer_sortiert_resize_NaN/5\\Ziffer_4_0034.jpg | 4  | -1 |\n"
   ]
  },
  {
   "cell_type": "code",
   "execution_count": 6,
   "metadata": {},
   "outputs": [
    {
     "name": "stdout",
     "output_type": "stream",
     "text": [
      "ziffer_sortiert_vd_resize/1_dig0001_20211111-160932.jpg 1 2\n"
     ]
    },
    {
     "data": {
      "image/png": "[encoded data removed]",
      "text/plain": [
       "<PIL.JpegImagePlugin.JpegImageFile image mode=RGB size=20x32 at 0x7FE14024D220>"
      ]
     },
     "metadata": {},
     "output_type": "display_data"
    },
    {
     "name": "stdout",
     "output_type": "stream",
     "text": [
      "ziffer_sortiert_vd_resize/7_dig0001_20211111-040759.jpg 7 6\n"
     ]
    },
    {
     "data": {
      "image/png": "[encoded data removed]",
      "text/plain": [
       "<PIL.JpegImagePlugin.JpegImageFile image mode=RGB size=20x32 at 0x7FE140283640>"
      ]
     },
     "metadata": {},
     "output_type": "display_data"
    },
    {
     "name": "stdout",
     "output_type": "stream",
     "text": [
      "ziffer_sortiert_vd_resize/NaN_0_dig0001_20211111-082826.jpg -1 0\n"
     ]
    },
    {
     "data": {
      "image/png": "[encoded data removed]",
      "text/plain": [
       "<PIL.JpegImagePlugin.JpegImageFile image mode=RGB size=20x32 at 0x7FE1401318E0>"
      ]
     },
     "metadata": {},
     "output_type": "display_data"
    },
    {
     "data": {
      "image/png": "[encoded data removed]",
      "text/plain": [
       "<Figure size 432x288 with 1 Axes>"
      ]
     },
     "metadata": {
      "needs_background": "light"
     },
     "output_type": "display_data"
    }
   ],
   "source": [
    "Input_dir='ziffer_sortiert_vd_resize'\n",
    "res = []\n",
    "only_deviation = True\n",
    "show_wrong_image = True\n",
    "\n",
    "files = glob.glob(Input_dir + '/*.jpg')\n",
    "\n",
    "for aktfile in files:\n",
    "    base = os.path.basename(aktfile)\n",
    "    target = base[0:1]\n",
    "    if target == \"N\":\n",
    "        zw1 = -1\n",
    "    else:\n",
    "        zw1 = int(target)\n",
    "    expected_class = zw1\n",
    "    image_in = Image.open(aktfile)\n",
    "    test_image = np.array(image_in, dtype=\"float32\")\n",
    "    img = np.reshape(test_image,[1,32,20,3])\n",
    "    classes = np.argmax(model.predict(img), axis=-1)\n",
    "    classes = classes[0]\n",
    "    if classes == 10: \n",
    "        classes = -1\n",
    "    zw2 = classes\n",
    "    zw3 = zw2 - zw1\n",
    "    res.append(np.array([zw1, zw2, zw3]))\n",
    "    if only_deviation == True:\n",
    "        if str(classes) != str(expected_class):\n",
    "            print(aktfile + \" \" + str(expected_class) +  \" \" + str(classes))\n",
    "            if show_wrong_image == True:\n",
    "                display(image_in)\n",
    "    else:\n",
    "        print(aktfile + \" \" + aktsubdir +  \" \" + str(classes))\n",
    "        \n",
    "\n",
    "res = np.asarray(res)\n",
    "\n",
    "\n",
    "plt.plot(res[:,0])\n",
    "plt.plot(res[:,1])\n",
    "plt.title('Result')\n",
    "plt.ylabel('Digital Value')\n",
    "plt.xlabel('#Picture')\n",
    "plt.legend(['real','model'], loc='upper left')\n",
    "plt.show()"
   ]
  },
  {
   "cell_type": "markdown",
   "metadata": {},
   "source": [
    "### Save the model\n",
    "\n",
    "* Save the model to the file with the \"h5\" file format"
   ]
  },
  {
   "cell_type": "code",
   "execution_count": 7,
   "metadata": {},
   "outputs": [
    {
     "name": "stderr",
     "output_type": "stream",
     "text": [
      "2021-12-02 16:38:40.023223: W tensorflow/python/util/util.cc:368] Sets are not currently considered sequences, but this may change in the future, so consider avoiding using them.\n"
     ]
    },
    {
     "name": "stdout",
     "output_type": "stream",
     "text": [
      "INFO:tensorflow:Assets written to: /tmp/tmpjul_si6d/assets\n"
     ]
    },
    {
     "name": "stderr",
     "output_type": "stream",
     "text": [
      "2021-12-02 16:38:41.770800: W tensorflow/compiler/mlir/lite/python/tf_tfl_flatbuffer_helpers.cc:363] Ignored output_format.\n",
      "2021-12-02 16:38:41.770865: W tensorflow/compiler/mlir/lite/python/tf_tfl_flatbuffer_helpers.cc:366] Ignored drop_control_dependency.\n",
      "WARNING:absl:Buffer deduplication procedure will be skipped when flatbuffer library is not properly loaded\n",
      "2021-12-02 16:38:41.771901: I tensorflow/cc/saved_model/reader.cc:43] Reading SavedModel from: /tmp/tmpjul_si6d\n",
      "2021-12-02 16:38:41.774860: I tensorflow/cc/saved_model/reader.cc:107] Reading meta graph with tags { serve }\n",
      "2021-12-02 16:38:41.774896: I tensorflow/cc/saved_model/reader.cc:148] Reading SavedModel debug info (if present) from: /tmp/tmpjul_si6d\n",
      "2021-12-02 16:38:41.786819: I tensorflow/cc/saved_model/loader.cc:210] Restoring SavedModel bundle.\n",
      "2021-12-02 16:38:41.853041: I tensorflow/cc/saved_model/loader.cc:194] Running initialization op on SavedModel bundle at path: /tmp/tmpjul_si6d\n",
      "2021-12-02 16:38:41.875124: I tensorflow/cc/saved_model/loader.cc:283] SavedModel load for tags { serve }; Status: success: OK. Took 103226 microseconds.\n",
      "2021-12-02 16:38:41.923371: I tensorflow/compiler/mlir/tensorflow/utils/dump_mlir_util.cc:237] disabling MLIR crash reproducer, set env var `MLIR_CRASH_REPRODUCER_DIRECTORY` to enable.\n"
     ]
    },
    {
     "data": {
      "text/plain": [
       "219168"
      ]
     },
     "execution_count": 7,
     "metadata": {},
     "output_type": "execute_result"
    }
   ],
   "source": [
    "FileName = TFliteNamingAndVersion\n",
    "\n",
    "model.save(FileName + \".tflite\")\n",
    "\n",
    "converter = tf.lite.TFLiteConverter.from_keras_model(model)\n",
    "tflite_model = converter.convert()\n",
    "open(FileName + \".tflite\", \"wb\").write(tflite_model)"
   ]
  },
  {
   "cell_type": "code",
   "execution_count": 8,
   "metadata": {},
   "outputs": [
    {
     "name": "stdout",
     "output_type": "stream",
     "text": [
      "INFO:tensorflow:Assets written to: /tmp/tmpfzjxncsl/assets\n"
     ]
    },
    {
     "name": "stderr",
     "output_type": "stream",
     "text": [
      "INFO:tensorflow:Assets written to: /tmp/tmpfzjxncsl/assets\n",
      "2021-12-02 16:38:43.916749: W tensorflow/compiler/mlir/lite/python/tf_tfl_flatbuffer_helpers.cc:363] Ignored output_format.\n",
      "2021-12-02 16:38:43.916793: W tensorflow/compiler/mlir/lite/python/tf_tfl_flatbuffer_helpers.cc:366] Ignored drop_control_dependency.\n",
      "2021-12-02 16:38:43.916984: I tensorflow/cc/saved_model/reader.cc:43] Reading SavedModel from: /tmp/tmpfzjxncsl\n",
      "2021-12-02 16:38:43.919176: I tensorflow/cc/saved_model/reader.cc:107] Reading meta graph with tags { serve }\n",
      "2021-12-02 16:38:43.919194: I tensorflow/cc/saved_model/reader.cc:148] Reading SavedModel debug info (if present) from: /tmp/tmpfzjxncsl\n",
      "2021-12-02 16:38:43.928439: I tensorflow/cc/saved_model/loader.cc:210] Restoring SavedModel bundle.\n",
      "2021-12-02 16:38:43.985443: I tensorflow/cc/saved_model/loader.cc:194] Running initialization op on SavedModel bundle at path: /tmp/tmpfzjxncsl\n",
      "2021-12-02 16:38:44.004087: I tensorflow/cc/saved_model/loader.cc:283] SavedModel load for tags { serve }; Status: success: OK. Took 87104 microseconds.\n",
      "fully_quantize: 0, inference_type: 6, input_inference_type: 0, output_inference_type: 0\n",
      "WARNING:absl:Buffer deduplication procedure will be skipped when flatbuffer library is not properly loaded\n"
     ]
    },
    {
     "name": "stdout",
     "output_type": "stream",
     "text": [
      "dig1320s3vd2q.tflite\n"
     ]
    },
    {
     "data": {
      "text/plain": [
       "62136"
      ]
     },
     "execution_count": 8,
     "metadata": {},
     "output_type": "execute_result"
    }
   ],
   "source": [
    "FileName = TFliteNamingAndVersion + \"q.tflite\"\n",
    "\n",
    "import tensorflow as tf\n",
    "\n",
    "def representative_dataset():\n",
    "    for n in range(x_data[0].size):\n",
    "      data = np.expand_dims(x_data[5], axis=0)\n",
    "      yield [data.astype(np.float32)]\n",
    "        \n",
    "converter2 = tf.lite.TFLiteConverter.from_keras_model(model)\n",
    "converter2.representative_dataset = representative_dataset\n",
    "converter2.optimizations = [tf.lite.Optimize.DEFAULT]\n",
    "converter2.representative_dataset = representative_dataset\n",
    "tflite_quant_model = converter2.convert()\n",
    "\n",
    "open(FileName, \"wb\").write(tflite_quant_model)\n",
    "print(FileName)\n",
    "Path(FileName).stat().st_size"
   ]
  },
  {
   "cell_type": "markdown",
   "metadata": {},
   "source": [
    "Checking the images shows, that this are border line images, which can be interpreted as a good digit or a faulty one."
   ]
  },
  {
   "cell_type": "code",
   "execution_count": 9,
   "metadata": {},
   "outputs": [
    {
     "ename": "IndexError",
     "evalue": "too many indices for array: array is 1-dimensional, but 2 were indexed",
     "output_type": "error",
     "traceback": [
      "\u001b[0;31m---------------------------------------------------------------------------\u001b[0m",
      "\u001b[0;31mIndexError\u001b[0m                                Traceback (most recent call last)",
      "\u001b[0;32m/tmp/ipykernel_137/497524153.py\u001b[0m in \u001b[0;36m<module>\u001b[0;34m\u001b[0m\n\u001b[1;32m     36\u001b[0m \u001b[0;34m\u001b[0m\u001b[0m\n\u001b[1;32m     37\u001b[0m \u001b[0;34m\u001b[0m\u001b[0m\n\u001b[0;32m---> 38\u001b[0;31m \u001b[0mplt\u001b[0m\u001b[0;34m.\u001b[0m\u001b[0mplot\u001b[0m\u001b[0;34m(\u001b[0m\u001b[0mres\u001b[0m\u001b[0;34m[\u001b[0m\u001b[0;34m:\u001b[0m\u001b[0;34m,\u001b[0m\u001b[0;36m0\u001b[0m\u001b[0;34m]\u001b[0m\u001b[0;34m)\u001b[0m\u001b[0;34m\u001b[0m\u001b[0;34m\u001b[0m\u001b[0m\n\u001b[0m\u001b[1;32m     39\u001b[0m \u001b[0mplt\u001b[0m\u001b[0;34m.\u001b[0m\u001b[0mplot\u001b[0m\u001b[0;34m(\u001b[0m\u001b[0mres\u001b[0m\u001b[0;34m[\u001b[0m\u001b[0;34m:\u001b[0m\u001b[0;34m,\u001b[0m\u001b[0;36m1\u001b[0m\u001b[0;34m]\u001b[0m\u001b[0;34m)\u001b[0m\u001b[0;34m\u001b[0m\u001b[0;34m\u001b[0m\u001b[0m\n\u001b[1;32m     40\u001b[0m \u001b[0mplt\u001b[0m\u001b[0;34m.\u001b[0m\u001b[0mtitle\u001b[0m\u001b[0;34m(\u001b[0m\u001b[0;34m'Result'\u001b[0m\u001b[0;34m)\u001b[0m\u001b[0;34m\u001b[0m\u001b[0;34m\u001b[0m\u001b[0m\n",
      "\u001b[0;31mIndexError\u001b[0m: too many indices for array: array is 1-dimensional, but 2 were indexed"
     ]
    }
   ],
   "source": [
    "Input_dir='ziffer_vd_check_resize'\n",
    "res = []\n",
    "only_deviation = True\n",
    "show_wrong_image = True\n",
    "\n",
    "files = glob.glob(Input_dir + '/*.jpg')\n",
    "\n",
    "for aktfile in files:\n",
    "    base = os.path.basename(aktfile)\n",
    "    target = base[0:1]\n",
    "    if target == \"N\":\n",
    "        zw1 = -1\n",
    "    else:\n",
    "        zw1 = int(target)\n",
    "    expected_class = zw1\n",
    "    image_in = Image.open(aktfile)\n",
    "    test_image = np.array(image_in, dtype=\"float32\")\n",
    "    img = np.reshape(test_image,[1,32,20,3])\n",
    "    classes = np.argmax(model.predict(img), axis=-1)\n",
    "    classes = classes[0]\n",
    "    if classes == 10: \n",
    "        classes = -1\n",
    "    zw2 = classes\n",
    "    zw3 = zw2 - zw1\n",
    "    res.append(np.array([zw1, zw2, zw3]))\n",
    "    if only_deviation == True:\n",
    "        if str(classes) != str(expected_class):\n",
    "            print(aktfile + \" \" + str(expected_class) +  \" \" + str(classes))\n",
    "            if show_wrong_image == True:\n",
    "                display(image_in)\n",
    "    else:\n",
    "        print(aktfile + \" \" + aktsubdir +  \" \" + str(classes))\n",
    "        \n",
    "\n",
    "res = np.asarray(res)\n",
    "\n",
    "\n",
    "plt.plot(res[:,0])\n",
    "plt.plot(res[:,1])\n",
    "plt.title('Result')\n",
    "plt.ylabel('Digital Value')\n",
    "plt.xlabel('#Picture')\n",
    "plt.legend(['real','model'], loc='upper left')\n",
    "plt.show()"
   ]
  },
  {
   "cell_type": "code",
   "execution_count": null,
   "metadata": {},
   "outputs": [],
   "source": []
  }
 ],
 "metadata": {
  "kernelspec": {
   "display_name": "Python 3 (ipykernel)",
   "language": "python",
   "name": "python3"
  },
  "language_info": {
   "codemirror_mode": {
    "name": "ipython",
    "version": 3
   },
   "file_extension": ".py",
   "mimetype": "text/x-python",
   "name": "python",
   "nbconvert_exporter": "python",
   "pygments_lexer": "ipython3",
   "version": "3.9.7"
  }
 },
 "nbformat": 4,
 "nbformat_minor": 4
}
